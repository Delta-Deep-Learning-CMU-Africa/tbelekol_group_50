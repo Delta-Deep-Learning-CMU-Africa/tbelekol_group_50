{
 "cells": [
  {
   "cell_type": "markdown",
   "id": "21cf3309",
   "metadata": {
    "papermill": {
     "duration": 0.005002,
     "end_time": "2025-03-16T13:29:39.939444",
     "exception": false,
     "start_time": "2025-03-16T13:29:39.934442",
     "status": "completed"
    },
    "tags": []
   },
   "source": [
    "Importing Necessary Library"
   ]
  },
  {
   "cell_type": "code",
   "execution_count": 1,
   "id": "d21cea75",
   "metadata": {
    "execution": {
     "iopub.execute_input": "2025-03-16T13:29:39.948865Z",
     "iopub.status.busy": "2025-03-16T13:29:39.948559Z",
     "iopub.status.idle": "2025-03-16T13:29:55.207170Z",
     "shell.execute_reply": "2025-03-16T13:29:55.206192Z"
    },
    "id": "ZVGhiCYe775f",
    "papermill": {
     "duration": 15.264794,
     "end_time": "2025-03-16T13:29:55.208754",
     "exception": false,
     "start_time": "2025-03-16T13:29:39.943960",
     "status": "completed"
    },
    "tags": []
   },
   "outputs": [],
   "source": [
    "# Importing Necessary Libraries\n",
    "import wandb\n",
    "from tensorflow.keras.preprocessing.image import ImageDataGenerator\n",
    "#from keras.applications import resnet\n",
    "from tensorflow.keras.applications import VGG16, ResNet50, ResNet101, InceptionResNetV2\n",
    "from tensorflow.keras.layers import AveragePooling2D\n",
    "from tensorflow.keras.layers import Dropout\n",
    "from tensorflow.keras.layers import Flatten\n",
    "from tensorflow.keras.layers import Dense\n",
    "from tensorflow.keras.layers import Input\n",
    "from tensorflow.keras.models import Model\n",
    "from tensorflow.keras.optimizers import Adam, SGD\n",
    "from tensorflow.keras.utils import to_categorical\n",
    "from sklearn.preprocessing import LabelBinarizer\n",
    "from sklearn.model_selection import train_test_split\n",
    "from sklearn.metrics import classification_report\n",
    "from sklearn.metrics import confusion_matrix\n",
    "from imutils import paths\n",
    "import matplotlib.pyplot as plt\n",
    "import numpy as np\n",
    "import argparse\n",
    "import cv2\n",
    "import os"
   ]
  },
  {
   "cell_type": "markdown",
   "id": "9a7f087a",
   "metadata": {
    "id": "0Weu7J-y8TFs",
    "papermill": {
     "duration": 0.003743,
     "end_time": "2025-03-16T13:29:55.216760",
     "exception": false,
     "start_time": "2025-03-16T13:29:55.213017",
     "status": "completed"
    },
    "tags": []
   },
   "source": [
    "Loading the Dataset"
   ]
  },
  {
   "cell_type": "code",
   "execution_count": 2,
   "id": "ffc03246",
   "metadata": {
    "execution": {
     "iopub.execute_input": "2025-03-16T13:29:55.225438Z",
     "iopub.status.busy": "2025-03-16T13:29:55.224924Z",
     "iopub.status.idle": "2025-03-16T13:29:55.228211Z",
     "shell.execute_reply": "2025-03-16T13:29:55.227525Z"
    },
    "papermill": {
     "duration": 0.008843,
     "end_time": "2025-03-16T13:29:55.229411",
     "exception": false,
     "start_time": "2025-03-16T13:29:55.220568",
     "status": "completed"
    },
    "tags": []
   },
   "outputs": [],
   "source": [
    "# # Initialize Weights & Biases\n",
    "# wandb.login(key=\"e8a360829806e69a22f56a7eb4c7b07aab8c6485\")\n",
    "# wandb.init(project=\"final-project-ablations\", name=\"tbelekol_run2\")\n",
    "\n",
    "# # Loading the Dataset\n",
    "# print(\"[INFO] loading images...\")\n",
    "# imagePaths = list(paths.list_images(\"/kaggle/input/newdataset/datasetnew\"))\n",
    "# data = []\n",
    "# labels = []"
   ]
  },
  {
   "cell_type": "code",
   "execution_count": 3,
   "id": "6aace765",
   "metadata": {
    "execution": {
     "iopub.execute_input": "2025-03-16T13:29:55.237690Z",
     "iopub.status.busy": "2025-03-16T13:29:55.237485Z",
     "iopub.status.idle": "2025-03-16T13:29:55.240190Z",
     "shell.execute_reply": "2025-03-16T13:29:55.239638Z"
    },
    "id": "iDrsbhUxDL0o",
    "papermill": {
     "duration": 0.008003,
     "end_time": "2025-03-16T13:29:55.241253",
     "exception": false,
     "start_time": "2025-03-16T13:29:55.233250",
     "status": "completed"
    },
    "tags": []
   },
   "outputs": [],
   "source": [
    "# for imagePath in imagePaths:\n",
    "#     # Extract the class label from the filename\n",
    "#     label = imagePath.split(os.path.sep)[-2]\n",
    "#     # Load the image, swap color channels, and resize it to 224x224 pixels\n",
    "#     image = cv2.imread(imagePath)\n",
    "#     image = cv2.cvtColor(image, cv2.COLOR_BGR2RGB)\n",
    "#     image = cv2.resize(image, (224, 224))\n",
    "#     # Update the data and labels lists\n",
    "#     data.append(image)\n",
    "#     labels.append(label)\n",
    "\n",
    "# # Convert the data and labels to NumPy arrays while scaling the pixel intensities to the range [0, 1]\n",
    "# data = np.array(data) / 255.0\n",
    "# labels = np.array(labels)"
   ]
  },
  {
   "cell_type": "markdown",
   "id": "179341d4",
   "metadata": {
    "id": "GHPzBrp98XCc",
    "papermill": {
     "duration": 0.003499,
     "end_time": "2025-03-16T13:29:55.248515",
     "exception": false,
     "start_time": "2025-03-16T13:29:55.245016",
     "status": "completed"
    },
    "tags": []
   },
   "source": [
    "Image preprocessing and extract the Label"
   ]
  },
  {
   "cell_type": "code",
   "execution_count": 4,
   "id": "b22a0015",
   "metadata": {
    "execution": {
     "iopub.execute_input": "2025-03-16T13:29:55.256643Z",
     "iopub.status.busy": "2025-03-16T13:29:55.256439Z",
     "iopub.status.idle": "2025-03-16T13:29:55.259434Z",
     "shell.execute_reply": "2025-03-16T13:29:55.258819Z"
    },
    "id": "1Q1DQ7WG8V2n",
    "papermill": {
     "duration": 0.008412,
     "end_time": "2025-03-16T13:29:55.260623",
     "exception": false,
     "start_time": "2025-03-16T13:29:55.252211",
     "status": "completed"
    },
    "tags": []
   },
   "outputs": [],
   "source": [
    "# lb = LabelBinarizer()\n",
    "# labels = lb.fit_transform(labels)\n",
    "# labels = to_categorical(labels)\n",
    "# # from sklearn.preprocessing import LabelEncoder\n",
    "# # le = LabelEncoder()\n",
    "# # labels = le.fit_transform(labels)\n",
    "# # partition the data into training and testing splits using 80% of\n",
    "# # the data for training and the remaining 20% for testing\n",
    "# (trainX, testX, trainY, testY) = train_test_split(data, labels,\n",
    "# \ttest_size=0.20, random_state=42,stratify=labels)\n",
    "\n",
    "# # Initialize the training data augmentation object\n",
    "# trainAug = ImageDataGenerator(\n",
    "#     rotation_range=45, \n",
    "#     width_shift_range=0.02, \n",
    "#     height_shift_range=0.02, \n",
    "#     zoom_range=0.02, \n",
    "#     horizontal_flip=True, \n",
    "#     fill_mode=\"nearest\"\n",
    "# )"
   ]
  },
  {
   "cell_type": "code",
   "execution_count": 5,
   "id": "8ca9f7c1",
   "metadata": {
    "execution": {
     "iopub.execute_input": "2025-03-16T13:29:55.269387Z",
     "iopub.status.busy": "2025-03-16T13:29:55.269175Z",
     "iopub.status.idle": "2025-03-16T13:29:58.138946Z",
     "shell.execute_reply": "2025-03-16T13:29:58.137837Z"
    },
    "papermill": {
     "duration": 2.875988,
     "end_time": "2025-03-16T13:29:58.140456",
     "exception": false,
     "start_time": "2025-03-16T13:29:55.264468",
     "status": "completed"
    },
    "tags": []
   },
   "outputs": [
    {
     "name": "stderr",
     "output_type": "stream",
     "text": [
      "\u001b[34m\u001b[1mwandb\u001b[0m: Using wandb-core as the SDK backend.  Please refer to https://wandb.me/wandb-core for more information.\n",
      "\u001b[34m\u001b[1mwandb\u001b[0m: Currently logged in as: \u001b[33mamuhairw\u001b[0m (\u001b[33mdelta-group-50\u001b[0m). Use \u001b[1m`wandb login --relogin`\u001b[0m to force relogin\n",
      "\u001b[34m\u001b[1mwandb\u001b[0m: \u001b[33mWARNING\u001b[0m If you're specifying your api key in code, ensure this code is not shared publicly.\n",
      "\u001b[34m\u001b[1mwandb\u001b[0m: \u001b[33mWARNING\u001b[0m Consider setting the WANDB_API_KEY environment variable, or running `wandb login` from the command line.\n",
      "\u001b[34m\u001b[1mwandb\u001b[0m: Appending key for api.wandb.ai to your netrc file: /root/.netrc\n",
      "\u001b[34m\u001b[1mwandb\u001b[0m: Tracking run with wandb version 0.19.1\n",
      "\u001b[34m\u001b[1mwandb\u001b[0m: Run data is saved locally in \u001b[35m\u001b[1m/kaggle/working/wandb/run-20250316_132956-6fby0ap1\u001b[0m\n",
      "\u001b[34m\u001b[1mwandb\u001b[0m: Run \u001b[1m`wandb offline`\u001b[0m to turn off syncing.\n",
      "\u001b[34m\u001b[1mwandb\u001b[0m: Syncing run \u001b[33mtbelekol_run2\u001b[0m\n",
      "\u001b[34m\u001b[1mwandb\u001b[0m: ⭐️ View project at \u001b[34m\u001b[4mhttps://wandb.ai/delta-group-50/final-project-ablations\u001b[0m\n",
      "\u001b[34m\u001b[1mwandb\u001b[0m: 🚀 View run at \u001b[34m\u001b[4mhttps://wandb.ai/delta-group-50/final-project-ablations/runs/6fby0ap1\u001b[0m\n"
     ]
    },
    {
     "name": "stdout",
     "output_type": "stream",
     "text": [
      "[INFO] loading images...\n",
      "[INFO] Encoded labels shape: (90, 2)\n",
      "[INFO] Data loading complete.\n"
     ]
    }
   ],
   "source": [
    "# # Initialize Weights & Biases\n",
    "# wandb.login(key=\"e8a360829806e69a22f56a7eb4c7b07aab8c6485\")\n",
    "# wandb.init(project=\"final-project-ablations\", name=\"tbelekol_run2\")\n",
    "\n",
    "# # Loading the Dataset\n",
    "# print(\"[INFO] loading images...\")\n",
    "# imagePaths = list(paths.list_images(\"/kaggle/input/newdataset/datasetnew\"))\n",
    "# data = []\n",
    "# labels = []\n",
    "\n",
    "# # Loop over the image paths\n",
    "# for imagePath in imagePaths:\n",
    "#     # Extract the class label from the directory name (monkey_image or chicken_pox)\n",
    "#     label = imagePath.split(os.path.sep)[-2]\n",
    "    \n",
    "#     # Load the image and preprocess it\n",
    "#     image = cv2.imread(imagePath)\n",
    "#     image = cv2.cvtColor(image, cv2.COLOR_BGR2RGB)\n",
    "#     image = cv2.resize(image, (224, 224))\n",
    "    \n",
    "#     # Update the data and labels lists\n",
    "#     data.append(image)\n",
    "#     labels.append(label)\n",
    "\n",
    "# # Convert the data and labels to NumPy arrays and scale pixel values to [0, 1]\n",
    "# data = np.array(data) / 255.0\n",
    "# labels = np.array(labels)\n",
    "\n",
    "# # Encode the labels as binary vectors\n",
    "# lb = LabelBinarizer()\n",
    "# labels = lb.fit_transform(labels)\n",
    "# labels = to_categorical(labels)\n",
    "\n",
    "# # Split the data into training and testing sets\n",
    "# (trainX, testX, trainY, testY) = train_test_split(data, labels, test_size=0.20, random_state=42, stratify=labels)\n",
    "\n",
    "# # Initialize data augmentation\n",
    "# trainAug = ImageDataGenerator(\n",
    "#     rotation_range=15,\n",
    "#     fill_mode=\"nearest\"\n",
    "# )\n",
    "\n",
    "# print(\"[INFO] Data loading complete.\")\n",
    "\n",
    "\n",
    "# Initialize Weights & Biases\n",
    "wandb.login(key=\"e8a360829806e69a22f56a7eb4c7b07aab8c6485\")\n",
    "wandb.init(project=\"final-project-ablations\", name=\"tbelekol_run2\")\n",
    "\n",
    "# Loading the Dataset\n",
    "print(\"[INFO] loading images...\")\n",
    "imagePaths = list(paths.list_images(\"/kaggle/input/converted-dataset/converted_data\"))\n",
    "data = []\n",
    "labels = []\n",
    "\n",
    "# Loop over the image paths\n",
    "for imagePath in imagePaths:\n",
    "    # Extract the class label from the directory name (monkey_image or chicken_pox)\n",
    "    label = imagePath.split(os.path.sep)[-2]\n",
    "    \n",
    "    # Load the image and preprocess it\n",
    "    image = cv2.imread(imagePath)\n",
    "    image = cv2.cvtColor(image, cv2.COLOR_BGR2RGB)\n",
    "    image = cv2.resize(image, (224, 224))\n",
    "    \n",
    "    # Update the data and labels lists\n",
    "    data.append(image)\n",
    "    labels.append(label)\n",
    "\n",
    "# Convert the data and labels to NumPy arrays and scale pixel values to [0, 1]\n",
    "data = np.array(data) / 255.0\n",
    "labels = np.array(labels)\n",
    "\n",
    "# Encode the labels as binary vectors\n",
    "lb = LabelBinarizer()\n",
    "labels = lb.fit_transform(labels)\n",
    "\n",
    "# Ensure the labels have the correct shape (None, 2) for binary classification\n",
    "if labels.shape[1] == 1:\n",
    "    labels = np.hstack((labels, 1 - labels))  # Convert to shape (None, 2)\n",
    "\n",
    "print(f\"[INFO] Encoded labels shape: {labels.shape}\")\n",
    "\n",
    "# Split the data into training and testing sets\n",
    "(trainX, testX, trainY, testY) = train_test_split(data, labels, test_size=0.20, random_state=42, stratify=labels)\n",
    "\n",
    "# Initialize data augmentation\n",
    "trainAug = ImageDataGenerator(\n",
    "    rotation_range=15,\n",
    "    fill_mode=\"nearest\"\n",
    ")\n",
    "\n",
    "print(\"[INFO] Data loading complete.\")\n"
   ]
  },
  {
   "cell_type": "code",
   "execution_count": 6,
   "id": "da9e1545",
   "metadata": {
    "execution": {
     "iopub.execute_input": "2025-03-16T13:29:58.151059Z",
     "iopub.status.busy": "2025-03-16T13:29:58.150798Z",
     "iopub.status.idle": "2025-03-16T13:30:01.001410Z",
     "shell.execute_reply": "2025-03-16T13:30:01.000688Z"
    },
    "id": "rq0HlzUx8kbZ",
    "papermill": {
     "duration": 2.85747,
     "end_time": "2025-03-16T13:30:01.002912",
     "exception": false,
     "start_time": "2025-03-16T13:29:58.145442",
     "status": "completed"
    },
    "tags": []
   },
   "outputs": [
    {
     "name": "stdout",
     "output_type": "stream",
     "text": [
      "Downloading data from https://storage.googleapis.com/tensorflow/keras-applications/vgg16/vgg16_weights_tf_dim_ordering_tf_kernels_notop.h5\n",
      "\u001b[1m58889256/58889256\u001b[0m \u001b[32m━━━━━━━━━━━━━━━━━━━━\u001b[0m\u001b[37m\u001b[0m \u001b[1m0s\u001b[0m 0us/step\n"
     ]
    }
   ],
   "source": [
    "baseModel =VGG16(weights=\"imagenet\", include_top=False, input_tensor=Input(shape=(224, 224, 3)))\n",
    "#baseModel =ResNet50(weights=\"imagenet\", include_top=False, input_tensor=Input(shape=(224, 224, 3)))\n",
    "# baseModel =ResNet101(weights=\"imagenet\", include_top=False, input_tensor=Input(shape=(224, 224, 3)))\n",
    "#baseModel =InceptionResNetV2(weights=\"imagenet\", include_top=False, input_tensor=Input(shape=(224, 224, 3)))\n",
    "headModel = baseModel.output\n",
    "headModel = AveragePooling2D(pool_size=(4, 4))(headModel)\n",
    "headModel = Flatten(name=\"flatten\")(headModel)\n",
    "headModel = Dense(64, activation=\"relu\")(headModel)\n",
    "headModel = Dropout(0.5)(headModel)\n",
    "headModel = Dense(2, activation=\"softmax\")(headModel)\n",
    "model = Model(inputs=baseModel.input, outputs=headModel)\n",
    "for layer in baseModel.layers:\n",
    "\tlayer.trainable = False\n",
    "\t# compile our model"
   ]
  },
  {
   "cell_type": "code",
   "execution_count": 7,
   "id": "5eb7cecb",
   "metadata": {
    "execution": {
     "iopub.execute_input": "2025-03-16T13:30:01.014327Z",
     "iopub.status.busy": "2025-03-16T13:30:01.014048Z",
     "iopub.status.idle": "2025-03-16T13:30:01.017040Z",
     "shell.execute_reply": "2025-03-16T13:30:01.016395Z"
    },
    "id": "Z6sNKjxn8q4x",
    "papermill": {
     "duration": 0.00979,
     "end_time": "2025-03-16T13:30:01.018145",
     "exception": false,
     "start_time": "2025-03-16T13:30:01.008355",
     "status": "completed"
    },
    "tags": []
   },
   "outputs": [],
   "source": [
    "# model.summary()"
   ]
  },
  {
   "cell_type": "code",
   "execution_count": 8,
   "id": "edfbd413",
   "metadata": {
    "execution": {
     "iopub.execute_input": "2025-03-16T13:30:01.028361Z",
     "iopub.status.busy": "2025-03-16T13:30:01.028100Z",
     "iopub.status.idle": "2025-03-16T13:30:01.031314Z",
     "shell.execute_reply": "2025-03-16T13:30:01.030489Z"
    },
    "id": "gCjeCi5QDfGE",
    "papermill": {
     "duration": 0.00974,
     "end_time": "2025-03-16T13:30:01.032721",
     "exception": false,
     "start_time": "2025-03-16T13:30:01.022981",
     "status": "completed"
    },
    "tags": []
   },
   "outputs": [],
   "source": [
    "INIT_LR = 1e-3\n",
    "EPOCHS = 100\n",
    "BS = 30"
   ]
  },
  {
   "cell_type": "code",
   "execution_count": 9,
   "id": "f1b60e4e",
   "metadata": {
    "execution": {
     "iopub.execute_input": "2025-03-16T13:30:01.043197Z",
     "iopub.status.busy": "2025-03-16T13:30:01.042951Z",
     "iopub.status.idle": "2025-03-16T13:30:01.052309Z",
     "shell.execute_reply": "2025-03-16T13:30:01.051433Z"
    },
    "id": "HL-_1WR08sjr",
    "papermill": {
     "duration": 0.015999,
     "end_time": "2025-03-16T13:30:01.053618",
     "exception": false,
     "start_time": "2025-03-16T13:30:01.037619",
     "status": "completed"
    },
    "tags": []
   },
   "outputs": [
    {
     "name": "stderr",
     "output_type": "stream",
     "text": [
      "/usr/local/lib/python3.10/dist-packages/keras/src/optimizers/base_optimizer.py:33: UserWarning: Argument `decay` is no longer supported and will be ignored.\n",
      "  warnings.warn(\n"
     ]
    }
   ],
   "source": [
    "import tensorflow as tf\n",
    "opt = Adam(learning_rate=INIT_LR, decay=INIT_LR / EPOCHS)\n",
    "# #opt = tf.keras.optimizers.SGD(learning_rate=INIT_LR)\n",
    "# opt = tf.keras.optimizers.RMSprop(learning_rate=INIT_LR)\n",
    "\n",
    "\n",
    "\n",
    "# opt = Adam(learning_rate=INIT_LR) "
   ]
  },
  {
   "cell_type": "code",
   "execution_count": 10,
   "id": "22335568",
   "metadata": {
    "execution": {
     "iopub.execute_input": "2025-03-16T13:30:01.064217Z",
     "iopub.status.busy": "2025-03-16T13:30:01.064001Z",
     "iopub.status.idle": "2025-03-16T13:31:30.817695Z",
     "shell.execute_reply": "2025-03-16T13:31:30.816899Z"
    },
    "id": "bRldY_9V8uL5",
    "outputId": "127031b3-da86-4cd0-b444-e44c39f7a44f",
    "papermill": {
     "duration": 89.760264,
     "end_time": "2025-03-16T13:31:30.818875",
     "exception": false,
     "start_time": "2025-03-16T13:30:01.058611",
     "status": "completed"
    },
    "tags": []
   },
   "outputs": [
    {
     "name": "stdout",
     "output_type": "stream",
     "text": [
      "[INFO] compiling model...\n",
      "[INFO] training head...\n",
      "Epoch 1/100\n"
     ]
    },
    {
     "name": "stderr",
     "output_type": "stream",
     "text": [
      "/usr/local/lib/python3.10/dist-packages/keras/src/trainers/data_adapters/py_dataset_adapter.py:122: UserWarning: Your `PyDataset` class should call `super().__init__(**kwargs)` in its constructor. `**kwargs` can include `workers`, `use_multiprocessing`, `max_queue_size`. Do not pass these arguments to `fit()`, as they will be ignored.\n",
      "  self._warn_if_super_not_called()\n"
     ]
    },
    {
     "name": "stdout",
     "output_type": "stream",
     "text": [
      "\u001b[1m2/2\u001b[0m \u001b[32m━━━━━━━━━━━━━━━━━━━━\u001b[0m\u001b[37m\u001b[0m \u001b[1m24s\u001b[0m 9s/step - accuracy: 0.5556 - loss: 0.7186 - val_accuracy: 0.5000 - val_loss: 0.6756\n",
      "Epoch 2/100\n",
      "\u001b[1m2/2\u001b[0m \u001b[32m━━━━━━━━━━━━━━━━━━━━\u001b[0m\u001b[37m\u001b[0m \u001b[1m7s\u001b[0m 127ms/step - accuracy: 0.3333 - loss: 0.7202 - val_accuracy: 0.6667 - val_loss: 0.6628\n",
      "Epoch 3/100\n"
     ]
    },
    {
     "name": "stderr",
     "output_type": "stream",
     "text": [
      "/usr/lib/python3.10/contextlib.py:153: UserWarning: Your input ran out of data; interrupting training. Make sure that your dataset or generator can generate at least `steps_per_epoch * epochs` batches. You may need to use the `.repeat()` function when building your dataset.\n",
      "  self.gen.throw(typ, value, traceback)\n"
     ]
    },
    {
     "name": "stdout",
     "output_type": "stream",
     "text": [
      "\u001b[1m2/2\u001b[0m \u001b[32m━━━━━━━━━━━━━━━━━━━━\u001b[0m\u001b[37m\u001b[0m \u001b[1m1s\u001b[0m 159ms/step - accuracy: 0.4571 - loss: 0.7208 - val_accuracy: 0.6667 - val_loss: 0.6533\n",
      "Epoch 4/100\n",
      "\u001b[1m2/2\u001b[0m \u001b[32m━━━━━━━━━━━━━━━━━━━━\u001b[0m\u001b[37m\u001b[0m \u001b[1m0s\u001b[0m 112ms/step - accuracy: 0.7000 - loss: 0.6017 - val_accuracy: 0.6111 - val_loss: 0.6553\n",
      "Epoch 5/100\n",
      "\u001b[1m2/2\u001b[0m \u001b[32m━━━━━━━━━━━━━━━━━━━━\u001b[0m\u001b[37m\u001b[0m \u001b[1m1s\u001b[0m 166ms/step - accuracy: 0.6127 - loss: 0.7037 - val_accuracy: 0.5000 - val_loss: 0.6593\n",
      "Epoch 6/100\n",
      "\u001b[1m2/2\u001b[0m \u001b[32m━━━━━━━━━━━━━━━━━━━━\u001b[0m\u001b[37m\u001b[0m \u001b[1m0s\u001b[0m 112ms/step - accuracy: 0.5333 - loss: 0.8023 - val_accuracy: 0.5000 - val_loss: 0.6598\n",
      "Epoch 7/100\n",
      "\u001b[1m2/2\u001b[0m \u001b[32m━━━━━━━━━━━━━━━━━━━━\u001b[0m\u001b[37m\u001b[0m \u001b[1m1s\u001b[0m 224ms/step - accuracy: 0.6000 - loss: 0.6473 - val_accuracy: 0.6667 - val_loss: 0.6646\n",
      "Epoch 8/100\n",
      "\u001b[1m2/2\u001b[0m \u001b[32m━━━━━━━━━━━━━━━━━━━━\u001b[0m\u001b[37m\u001b[0m \u001b[1m0s\u001b[0m 110ms/step - accuracy: 0.4167 - loss: 0.7833 - val_accuracy: 0.6111 - val_loss: 0.6685\n",
      "Epoch 9/100\n",
      "\u001b[1m2/2\u001b[0m \u001b[32m━━━━━━━━━━━━━━━━━━━━\u001b[0m\u001b[37m\u001b[0m \u001b[1m1s\u001b[0m 218ms/step - accuracy: 0.6310 - loss: 0.6796 - val_accuracy: 0.6667 - val_loss: 0.6759\n",
      "Epoch 10/100\n",
      "\u001b[1m2/2\u001b[0m \u001b[32m━━━━━━━━━━━━━━━━━━━━\u001b[0m\u001b[37m\u001b[0m \u001b[1m0s\u001b[0m 114ms/step - accuracy: 0.6667 - loss: 0.6510 - val_accuracy: 0.7222 - val_loss: 0.6814\n",
      "Epoch 11/100\n",
      "\u001b[1m2/2\u001b[0m \u001b[32m━━━━━━━━━━━━━━━━━━━━\u001b[0m\u001b[37m\u001b[0m \u001b[1m1s\u001b[0m 167ms/step - accuracy: 0.5429 - loss: 0.7005 - val_accuracy: 0.6667 - val_loss: 0.6891\n",
      "Epoch 12/100\n",
      "\u001b[1m2/2\u001b[0m \u001b[32m━━━━━━━━━━━━━━━━━━━━\u001b[0m\u001b[37m\u001b[0m \u001b[1m0s\u001b[0m 110ms/step - accuracy: 0.5667 - loss: 0.6803 - val_accuracy: 0.6111 - val_loss: 0.6936\n",
      "Epoch 13/100\n",
      "\u001b[1m2/2\u001b[0m \u001b[32m━━━━━━━━━━━━━━━━━━━━\u001b[0m\u001b[37m\u001b[0m \u001b[1m1s\u001b[0m 223ms/step - accuracy: 0.5397 - loss: 0.6777 - val_accuracy: 0.6111 - val_loss: 0.6980\n",
      "Epoch 14/100\n",
      "\u001b[1m2/2\u001b[0m \u001b[32m━━━━━━━━━━━━━━━━━━━━\u001b[0m\u001b[37m\u001b[0m \u001b[1m0s\u001b[0m 113ms/step - accuracy: 0.6000 - loss: 0.6357 - val_accuracy: 0.6111 - val_loss: 0.6986\n",
      "Epoch 15/100\n",
      "\u001b[1m2/2\u001b[0m \u001b[32m━━━━━━━━━━━━━━━━━━━━\u001b[0m\u001b[37m\u001b[0m \u001b[1m1s\u001b[0m 159ms/step - accuracy: 0.6508 - loss: 0.5954 - val_accuracy: 0.6111 - val_loss: 0.6980\n",
      "Epoch 16/100\n",
      "\u001b[1m2/2\u001b[0m \u001b[32m━━━━━━━━━━━━━━━━━━━━\u001b[0m\u001b[37m\u001b[0m \u001b[1m0s\u001b[0m 114ms/step - accuracy: 0.5333 - loss: 0.7127 - val_accuracy: 0.6111 - val_loss: 0.6953\n",
      "Epoch 17/100\n",
      "\u001b[1m2/2\u001b[0m \u001b[32m━━━━━━━━━━━━━━━━━━━━\u001b[0m\u001b[37m\u001b[0m \u001b[1m1s\u001b[0m 159ms/step - accuracy: 0.5857 - loss: 0.6617 - val_accuracy: 0.6667 - val_loss: 0.6875\n",
      "Epoch 18/100\n",
      "\u001b[1m2/2\u001b[0m \u001b[32m━━━━━━━━━━━━━━━━━━━━\u001b[0m\u001b[37m\u001b[0m \u001b[1m0s\u001b[0m 107ms/step - accuracy: 0.5667 - loss: 0.6248 - val_accuracy: 0.7222 - val_loss: 0.6822\n",
      "Epoch 19/100\n",
      "\u001b[1m2/2\u001b[0m \u001b[32m━━━━━━━━━━━━━━━━━━━━\u001b[0m\u001b[37m\u001b[0m \u001b[1m1s\u001b[0m 162ms/step - accuracy: 0.7968 - loss: 0.5989 - val_accuracy: 0.7222 - val_loss: 0.6760\n",
      "Epoch 20/100\n",
      "\u001b[1m2/2\u001b[0m \u001b[32m━━━━━━━━━━━━━━━━━━━━\u001b[0m\u001b[37m\u001b[0m \u001b[1m0s\u001b[0m 113ms/step - accuracy: 0.6333 - loss: 0.6216 - val_accuracy: 0.7222 - val_loss: 0.6741\n",
      "Epoch 21/100\n",
      "\u001b[1m2/2\u001b[0m \u001b[32m━━━━━━━━━━━━━━━━━━━━\u001b[0m\u001b[37m\u001b[0m \u001b[1m1s\u001b[0m 224ms/step - accuracy: 0.5873 - loss: 0.6336 - val_accuracy: 0.7222 - val_loss: 0.6724\n",
      "Epoch 22/100\n",
      "\u001b[1m2/2\u001b[0m \u001b[32m━━━━━━━━━━━━━━━━━━━━\u001b[0m\u001b[37m\u001b[0m \u001b[1m0s\u001b[0m 113ms/step - accuracy: 0.8000 - loss: 0.5373 - val_accuracy: 0.6667 - val_loss: 0.6712\n",
      "Epoch 23/100\n",
      "\u001b[1m2/2\u001b[0m \u001b[32m━━━━━━━━━━━━━━━━━━━━\u001b[0m\u001b[37m\u001b[0m \u001b[1m1s\u001b[0m 221ms/step - accuracy: 0.6333 - loss: 0.5717 - val_accuracy: 0.6111 - val_loss: 0.6696\n",
      "Epoch 24/100\n",
      "\u001b[1m2/2\u001b[0m \u001b[32m━━━━━━━━━━━━━━━━━━━━\u001b[0m\u001b[37m\u001b[0m \u001b[1m0s\u001b[0m 113ms/step - accuracy: 0.7500 - loss: 0.6554 - val_accuracy: 0.6667 - val_loss: 0.6682\n",
      "Epoch 25/100\n",
      "\u001b[1m2/2\u001b[0m \u001b[32m━━━━━━━━━━━━━━━━━━━━\u001b[0m\u001b[37m\u001b[0m \u001b[1m1s\u001b[0m 219ms/step - accuracy: 0.7667 - loss: 0.5191 - val_accuracy: 0.6667 - val_loss: 0.6665\n",
      "Epoch 26/100\n",
      "\u001b[1m2/2\u001b[0m \u001b[32m━━━━━━━━━━━━━━━━━━━━\u001b[0m\u001b[37m\u001b[0m \u001b[1m0s\u001b[0m 106ms/step - accuracy: 0.7500 - loss: 0.6188 - val_accuracy: 0.6111 - val_loss: 0.6656\n",
      "Epoch 27/100\n",
      "\u001b[1m2/2\u001b[0m \u001b[32m━━━━━━━━━━━━━━━━━━━━\u001b[0m\u001b[37m\u001b[0m \u001b[1m1s\u001b[0m 222ms/step - accuracy: 0.6444 - loss: 0.6176 - val_accuracy: 0.6667 - val_loss: 0.6663\n",
      "Epoch 28/100\n",
      "\u001b[1m2/2\u001b[0m \u001b[32m━━━━━━━━━━━━━━━━━━━━\u001b[0m\u001b[37m\u001b[0m \u001b[1m0s\u001b[0m 108ms/step - accuracy: 0.8333 - loss: 0.4598 - val_accuracy: 0.7222 - val_loss: 0.6669\n",
      "Epoch 29/100\n",
      "\u001b[1m2/2\u001b[0m \u001b[32m━━━━━━━━━━━━━━━━━━━━\u001b[0m\u001b[37m\u001b[0m \u001b[1m1s\u001b[0m 219ms/step - accuracy: 0.8333 - loss: 0.5131 - val_accuracy: 0.6667 - val_loss: 0.6692\n",
      "Epoch 30/100\n",
      "\u001b[1m2/2\u001b[0m \u001b[32m━━━━━━━━━━━━━━━━━━━━\u001b[0m\u001b[37m\u001b[0m \u001b[1m0s\u001b[0m 108ms/step - accuracy: 0.7500 - loss: 0.5748 - val_accuracy: 0.6667 - val_loss: 0.6710\n",
      "Epoch 31/100\n",
      "\u001b[1m2/2\u001b[0m \u001b[32m━━━━━━━━━━━━━━━━━━━━\u001b[0m\u001b[37m\u001b[0m \u001b[1m1s\u001b[0m 164ms/step - accuracy: 0.7365 - loss: 0.5491 - val_accuracy: 0.6667 - val_loss: 0.6777\n",
      "Epoch 32/100\n",
      "\u001b[1m2/2\u001b[0m \u001b[32m━━━━━━━━━━━━━━━━━━━━\u001b[0m\u001b[37m\u001b[0m \u001b[1m0s\u001b[0m 107ms/step - accuracy: 0.8000 - loss: 0.4519 - val_accuracy: 0.6667 - val_loss: 0.6809\n",
      "Epoch 33/100\n",
      "\u001b[1m2/2\u001b[0m \u001b[32m━━━━━━━━━━━━━━━━━━━━\u001b[0m\u001b[37m\u001b[0m \u001b[1m1s\u001b[0m 222ms/step - accuracy: 0.6889 - loss: 0.5954 - val_accuracy: 0.6667 - val_loss: 0.6872\n",
      "Epoch 34/100\n",
      "\u001b[1m2/2\u001b[0m \u001b[32m━━━━━━━━━━━━━━━━━━━━\u001b[0m\u001b[37m\u001b[0m \u001b[1m0s\u001b[0m 110ms/step - accuracy: 0.7500 - loss: 0.5846 - val_accuracy: 0.6667 - val_loss: 0.6905\n",
      "Epoch 35/100\n",
      "\u001b[1m2/2\u001b[0m \u001b[32m━━━━━━━━━━━━━━━━━━━━\u001b[0m\u001b[37m\u001b[0m \u001b[1m1s\u001b[0m 162ms/step - accuracy: 0.6778 - loss: 0.6214 - val_accuracy: 0.6111 - val_loss: 0.6958\n",
      "Epoch 36/100\n",
      "\u001b[1m2/2\u001b[0m \u001b[32m━━━━━━━━━━━━━━━━━━━━\u001b[0m\u001b[37m\u001b[0m \u001b[1m0s\u001b[0m 119ms/step - accuracy: 0.6667 - loss: 0.5734 - val_accuracy: 0.6111 - val_loss: 0.6984\n",
      "Epoch 37/100\n",
      "\u001b[1m2/2\u001b[0m \u001b[32m━━━━━━━━━━━━━━━━━━━━\u001b[0m\u001b[37m\u001b[0m \u001b[1m1s\u001b[0m 224ms/step - accuracy: 0.7444 - loss: 0.5482 - val_accuracy: 0.6111 - val_loss: 0.7038\n",
      "Epoch 38/100\n",
      "\u001b[1m2/2\u001b[0m \u001b[32m━━━━━━━━━━━━━━━━━━━━\u001b[0m\u001b[37m\u001b[0m \u001b[1m0s\u001b[0m 107ms/step - accuracy: 0.7500 - loss: 0.5461 - val_accuracy: 0.6111 - val_loss: 0.7059\n",
      "Epoch 39/100\n",
      "\u001b[1m2/2\u001b[0m \u001b[32m━━━━━━━━━━━━━━━━━━━━\u001b[0m\u001b[37m\u001b[0m \u001b[1m1s\u001b[0m 164ms/step - accuracy: 0.7095 - loss: 0.5858 - val_accuracy: 0.6111 - val_loss: 0.7088\n",
      "Epoch 40/100\n",
      "\u001b[1m2/2\u001b[0m \u001b[32m━━━━━━━━━━━━━━━━━━━━\u001b[0m\u001b[37m\u001b[0m \u001b[1m0s\u001b[0m 113ms/step - accuracy: 0.7000 - loss: 0.5864 - val_accuracy: 0.6111 - val_loss: 0.7102\n",
      "Epoch 41/100\n",
      "\u001b[1m2/2\u001b[0m \u001b[32m━━━━━━━━━━━━━━━━━━━━\u001b[0m\u001b[37m\u001b[0m \u001b[1m1s\u001b[0m 163ms/step - accuracy: 0.7683 - loss: 0.5358 - val_accuracy: 0.5556 - val_loss: 0.7137\n",
      "Epoch 42/100\n",
      "\u001b[1m2/2\u001b[0m \u001b[32m━━━━━━━━━━━━━━━━━━━━\u001b[0m\u001b[37m\u001b[0m \u001b[1m0s\u001b[0m 106ms/step - accuracy: 0.8667 - loss: 0.4654 - val_accuracy: 0.5556 - val_loss: 0.7158\n",
      "Epoch 43/100\n",
      "\u001b[1m2/2\u001b[0m \u001b[32m━━━━━━━━━━━━━━━━━━━━\u001b[0m\u001b[37m\u001b[0m \u001b[1m1s\u001b[0m 221ms/step - accuracy: 0.7222 - loss: 0.5322 - val_accuracy: 0.6111 - val_loss: 0.7160\n",
      "Epoch 44/100\n",
      "\u001b[1m2/2\u001b[0m \u001b[32m━━━━━━━━━━━━━━━━━━━━\u001b[0m\u001b[37m\u001b[0m \u001b[1m0s\u001b[0m 107ms/step - accuracy: 0.7500 - loss: 0.5503 - val_accuracy: 0.6111 - val_loss: 0.7171\n",
      "Epoch 45/100\n",
      "\u001b[1m2/2\u001b[0m \u001b[32m━━━━━━━━━━━━━━━━━━━━\u001b[0m\u001b[37m\u001b[0m \u001b[1m1s\u001b[0m 219ms/step - accuracy: 0.7579 - loss: 0.5196 - val_accuracy: 0.6111 - val_loss: 0.7200\n",
      "Epoch 46/100\n",
      "\u001b[1m2/2\u001b[0m \u001b[32m━━━━━━━━━━━━━━━━━━━━\u001b[0m\u001b[37m\u001b[0m \u001b[1m0s\u001b[0m 114ms/step - accuracy: 0.7333 - loss: 0.5239 - val_accuracy: 0.6111 - val_loss: 0.7216\n",
      "Epoch 47/100\n",
      "\u001b[1m2/2\u001b[0m \u001b[32m━━━━━━━━━━━━━━━━━━━━\u001b[0m\u001b[37m\u001b[0m \u001b[1m1s\u001b[0m 222ms/step - accuracy: 0.8452 - loss: 0.4408 - val_accuracy: 0.6111 - val_loss: 0.7256\n",
      "Epoch 48/100\n",
      "\u001b[1m2/2\u001b[0m \u001b[32m━━━━━━━━━━━━━━━━━━━━\u001b[0m\u001b[37m\u001b[0m \u001b[1m0s\u001b[0m 108ms/step - accuracy: 0.7667 - loss: 0.5323 - val_accuracy: 0.6111 - val_loss: 0.7277\n",
      "Epoch 49/100\n",
      "\u001b[1m2/2\u001b[0m \u001b[32m━━━━━━━━━━━━━━━━━━━━\u001b[0m\u001b[37m\u001b[0m \u001b[1m1s\u001b[0m 165ms/step - accuracy: 0.7587 - loss: 0.5198 - val_accuracy: 0.6111 - val_loss: 0.7319\n",
      "Epoch 50/100\n",
      "\u001b[1m2/2\u001b[0m \u001b[32m━━━━━━━━━━━━━━━━━━━━\u001b[0m\u001b[37m\u001b[0m \u001b[1m0s\u001b[0m 109ms/step - accuracy: 0.7667 - loss: 0.4592 - val_accuracy: 0.6111 - val_loss: 0.7349\n",
      "Epoch 51/100\n",
      "\u001b[1m2/2\u001b[0m \u001b[32m━━━━━━━━━━━━━━━━━━━━\u001b[0m\u001b[37m\u001b[0m \u001b[1m1s\u001b[0m 171ms/step - accuracy: 0.8063 - loss: 0.4558 - val_accuracy: 0.6111 - val_loss: 0.7407\n",
      "Epoch 52/100\n",
      "\u001b[1m2/2\u001b[0m \u001b[32m━━━━━━━━━━━━━━━━━━━━\u001b[0m\u001b[37m\u001b[0m \u001b[1m0s\u001b[0m 108ms/step - accuracy: 0.7000 - loss: 0.4907 - val_accuracy: 0.6667 - val_loss: 0.7446\n",
      "Epoch 53/100\n",
      "\u001b[1m2/2\u001b[0m \u001b[32m━━━━━━━━━━━━━━━━━━━━\u001b[0m\u001b[37m\u001b[0m \u001b[1m1s\u001b[0m 220ms/step - accuracy: 0.6667 - loss: 0.5460 - val_accuracy: 0.6667 - val_loss: 0.7506\n",
      "Epoch 54/100\n",
      "\u001b[1m2/2\u001b[0m \u001b[32m━━━━━━━━━━━━━━━━━━━━\u001b[0m\u001b[37m\u001b[0m \u001b[1m0s\u001b[0m 106ms/step - accuracy: 0.9167 - loss: 0.4677 - val_accuracy: 0.6111 - val_loss: 0.7541\n",
      "Epoch 55/100\n",
      "\u001b[1m2/2\u001b[0m \u001b[32m━━━━━━━━━━━━━━━━━━━━\u001b[0m\u001b[37m\u001b[0m \u001b[1m1s\u001b[0m 223ms/step - accuracy: 0.7222 - loss: 0.4818 - val_accuracy: 0.6111 - val_loss: 0.7601\n",
      "Epoch 56/100\n",
      "\u001b[1m2/2\u001b[0m \u001b[32m━━━━━━━━━━━━━━━━━━━━\u001b[0m\u001b[37m\u001b[0m \u001b[1m0s\u001b[0m 107ms/step - accuracy: 0.7500 - loss: 0.6120 - val_accuracy: 0.6111 - val_loss: 0.7631\n",
      "Epoch 57/100\n",
      "\u001b[1m2/2\u001b[0m \u001b[32m━━━━━━━━━━━━━━━━━━━━\u001b[0m\u001b[37m\u001b[0m \u001b[1m1s\u001b[0m 169ms/step - accuracy: 0.6937 - loss: 0.5773 - val_accuracy: 0.6111 - val_loss: 0.7677\n",
      "Epoch 58/100\n",
      "\u001b[1m2/2\u001b[0m \u001b[32m━━━━━━━━━━━━━━━━━━━━\u001b[0m\u001b[37m\u001b[0m \u001b[1m0s\u001b[0m 108ms/step - accuracy: 0.7667 - loss: 0.4981 - val_accuracy: 0.5556 - val_loss: 0.7712\n",
      "Epoch 59/100\n",
      "\u001b[1m2/2\u001b[0m \u001b[32m━━━━━━━━━━━━━━━━━━━━\u001b[0m\u001b[37m\u001b[0m \u001b[1m1s\u001b[0m 163ms/step - accuracy: 0.6984 - loss: 0.6152 - val_accuracy: 0.5556 - val_loss: 0.7801\n",
      "Epoch 60/100\n",
      "\u001b[1m2/2\u001b[0m \u001b[32m━━━━━━━━━━━━━━━━━━━━\u001b[0m\u001b[37m\u001b[0m \u001b[1m0s\u001b[0m 108ms/step - accuracy: 0.8000 - loss: 0.4732 - val_accuracy: 0.5556 - val_loss: 0.7833\n",
      "Epoch 61/100\n",
      "\u001b[1m2/2\u001b[0m \u001b[32m━━━━━━━━━━━━━━━━━━━━\u001b[0m\u001b[37m\u001b[0m \u001b[1m1s\u001b[0m 222ms/step - accuracy: 0.7556 - loss: 0.4855 - val_accuracy: 0.5000 - val_loss: 0.7869\n",
      "Epoch 62/100\n",
      "\u001b[1m2/2\u001b[0m \u001b[32m━━━━━━━━━━━━━━━━━━━━\u001b[0m\u001b[37m\u001b[0m \u001b[1m0s\u001b[0m 106ms/step - accuracy: 0.8333 - loss: 0.4522 - val_accuracy: 0.5556 - val_loss: 0.7906\n",
      "Epoch 63/100\n",
      "\u001b[1m2/2\u001b[0m \u001b[32m━━━━━━━━━━━━━━━━━━━━\u001b[0m\u001b[37m\u001b[0m \u001b[1m1s\u001b[0m 224ms/step - accuracy: 0.8000 - loss: 0.4461 - val_accuracy: 0.5000 - val_loss: 0.7918\n",
      "Epoch 64/100\n",
      "\u001b[1m2/2\u001b[0m \u001b[32m━━━━━━━━━━━━━━━━━━━━\u001b[0m\u001b[37m\u001b[0m \u001b[1m0s\u001b[0m 107ms/step - accuracy: 0.6667 - loss: 0.6655 - val_accuracy: 0.5000 - val_loss: 0.7903\n",
      "Epoch 65/100\n",
      "\u001b[1m2/2\u001b[0m \u001b[32m━━━━━━━━━━━━━━━━━━━━\u001b[0m\u001b[37m\u001b[0m \u001b[1m1s\u001b[0m 222ms/step - accuracy: 0.7857 - loss: 0.4754 - val_accuracy: 0.6111 - val_loss: 0.7813\n",
      "Epoch 66/100\n",
      "\u001b[1m2/2\u001b[0m \u001b[32m━━━━━━━━━━━━━━━━━━━━\u001b[0m\u001b[37m\u001b[0m \u001b[1m0s\u001b[0m 109ms/step - accuracy: 0.8333 - loss: 0.4295 - val_accuracy: 0.6111 - val_loss: 0.7792\n",
      "Epoch 67/100\n",
      "\u001b[1m2/2\u001b[0m \u001b[32m━━━━━━━━━━━━━━━━━━━━\u001b[0m\u001b[37m\u001b[0m \u001b[1m1s\u001b[0m 164ms/step - accuracy: 0.7635 - loss: 0.4855 - val_accuracy: 0.5556 - val_loss: 0.7769\n",
      "Epoch 68/100\n",
      "\u001b[1m2/2\u001b[0m \u001b[32m━━━━━━━━━━━━━━━━━━━━\u001b[0m\u001b[37m\u001b[0m \u001b[1m0s\u001b[0m 110ms/step - accuracy: 0.7667 - loss: 0.4849 - val_accuracy: 0.5556 - val_loss: 0.7769\n",
      "Epoch 69/100\n",
      "\u001b[1m2/2\u001b[0m \u001b[32m━━━━━━━━━━━━━━━━━━━━\u001b[0m\u001b[37m\u001b[0m \u001b[1m1s\u001b[0m 222ms/step - accuracy: 0.7302 - loss: 0.4689 - val_accuracy: 0.5556 - val_loss: 0.7795\n",
      "Epoch 70/100\n",
      "\u001b[1m2/2\u001b[0m \u001b[32m━━━━━━━━━━━━━━━━━━━━\u001b[0m\u001b[37m\u001b[0m \u001b[1m0s\u001b[0m 114ms/step - accuracy: 0.8333 - loss: 0.4680 - val_accuracy: 0.5556 - val_loss: 0.7803\n",
      "Epoch 71/100\n",
      "\u001b[1m2/2\u001b[0m \u001b[32m━━━━━━━━━━━━━━━━━━━━\u001b[0m\u001b[37m\u001b[0m \u001b[1m1s\u001b[0m 224ms/step - accuracy: 0.7857 - loss: 0.5537 - val_accuracy: 0.5556 - val_loss: 0.7833\n",
      "Epoch 72/100\n",
      "\u001b[1m2/2\u001b[0m \u001b[32m━━━━━━━━━━━━━━━━━━━━\u001b[0m\u001b[37m\u001b[0m \u001b[1m0s\u001b[0m 108ms/step - accuracy: 0.9000 - loss: 0.4061 - val_accuracy: 0.5556 - val_loss: 0.7846\n",
      "Epoch 73/100\n",
      "\u001b[1m2/2\u001b[0m \u001b[32m━━━━━━━━━━━━━━━━━━━━\u001b[0m\u001b[37m\u001b[0m \u001b[1m1s\u001b[0m 224ms/step - accuracy: 0.8492 - loss: 0.4476 - val_accuracy: 0.5556 - val_loss: 0.7911\n",
      "Epoch 74/100\n",
      "\u001b[1m2/2\u001b[0m \u001b[32m━━━━━━━━━━━━━━━━━━━━\u001b[0m\u001b[37m\u001b[0m \u001b[1m0s\u001b[0m 104ms/step - accuracy: 0.7333 - loss: 0.5132 - val_accuracy: 0.6111 - val_loss: 0.7956\n",
      "Epoch 75/100\n",
      "\u001b[1m2/2\u001b[0m \u001b[32m━━━━━━━━━━━━━━━━━━━━\u001b[0m\u001b[37m\u001b[0m \u001b[1m1s\u001b[0m 226ms/step - accuracy: 0.8294 - loss: 0.3977 - val_accuracy: 0.5556 - val_loss: 0.8119\n",
      "Epoch 76/100\n",
      "\u001b[1m2/2\u001b[0m \u001b[32m━━━━━━━━━━━━━━━━━━━━\u001b[0m\u001b[37m\u001b[0m \u001b[1m0s\u001b[0m 109ms/step - accuracy: 0.7667 - loss: 0.3876 - val_accuracy: 0.5556 - val_loss: 0.8192\n",
      "Epoch 77/100\n",
      "\u001b[1m2/2\u001b[0m \u001b[32m━━━━━━━━━━━━━━━━━━━━\u001b[0m\u001b[37m\u001b[0m \u001b[1m1s\u001b[0m 225ms/step - accuracy: 0.8889 - loss: 0.3771 - val_accuracy: 0.5556 - val_loss: 0.8273\n",
      "Epoch 78/100\n",
      "\u001b[1m2/2\u001b[0m \u001b[32m━━━━━━━━━━━━━━━━━━━━\u001b[0m\u001b[37m\u001b[0m \u001b[1m0s\u001b[0m 109ms/step - accuracy: 0.7667 - loss: 0.4368 - val_accuracy: 0.5556 - val_loss: 0.8308\n",
      "Epoch 79/100\n",
      "\u001b[1m2/2\u001b[0m \u001b[32m━━━━━━━━━━━━━━━━━━━━\u001b[0m\u001b[37m\u001b[0m \u001b[1m1s\u001b[0m 164ms/step - accuracy: 0.9190 - loss: 0.4234 - val_accuracy: 0.6111 - val_loss: 0.8348\n",
      "Epoch 80/100\n",
      "\u001b[1m2/2\u001b[0m \u001b[32m━━━━━━━━━━━━━━━━━━━━\u001b[0m\u001b[37m\u001b[0m \u001b[1m0s\u001b[0m 113ms/step - accuracy: 0.7667 - loss: 0.4549 - val_accuracy: 0.6111 - val_loss: 0.8381\n",
      "Epoch 81/100\n",
      "\u001b[1m2/2\u001b[0m \u001b[32m━━━━━━━━━━━━━━━━━━━━\u001b[0m\u001b[37m\u001b[0m \u001b[1m1s\u001b[0m 225ms/step - accuracy: 0.8111 - loss: 0.3960 - val_accuracy: 0.5556 - val_loss: 0.8441\n",
      "Epoch 82/100\n",
      "\u001b[1m2/2\u001b[0m \u001b[32m━━━━━━━━━━━━━━━━━━━━\u001b[0m\u001b[37m\u001b[0m \u001b[1m0s\u001b[0m 107ms/step - accuracy: 0.6667 - loss: 0.5509 - val_accuracy: 0.5556 - val_loss: 0.8492\n",
      "Epoch 83/100\n",
      "\u001b[1m2/2\u001b[0m \u001b[32m━━━━━━━━━━━━━━━━━━━━\u001b[0m\u001b[37m\u001b[0m \u001b[1m1s\u001b[0m 163ms/step - accuracy: 0.7524 - loss: 0.5054 - val_accuracy: 0.5556 - val_loss: 0.8571\n",
      "Epoch 84/100\n",
      "\u001b[1m2/2\u001b[0m \u001b[32m━━━━━━━━━━━━━━━━━━━━\u001b[0m\u001b[37m\u001b[0m \u001b[1m0s\u001b[0m 107ms/step - accuracy: 0.7667 - loss: 0.4692 - val_accuracy: 0.5000 - val_loss: 0.8590\n",
      "Epoch 85/100\n",
      "\u001b[1m2/2\u001b[0m \u001b[32m━━━━━━━━━━━━━━━━━━━━\u001b[0m\u001b[37m\u001b[0m \u001b[1m1s\u001b[0m 223ms/step - accuracy: 0.7556 - loss: 0.4727 - val_accuracy: 0.5556 - val_loss: 0.8626\n",
      "Epoch 86/100\n",
      "\u001b[1m2/2\u001b[0m \u001b[32m━━━━━━━━━━━━━━━━━━━━\u001b[0m\u001b[37m\u001b[0m \u001b[1m0s\u001b[0m 113ms/step - accuracy: 1.0000 - loss: 0.2659 - val_accuracy: 0.5556 - val_loss: 0.8638\n",
      "Epoch 87/100\n",
      "\u001b[1m2/2\u001b[0m \u001b[32m━━━━━━━━━━━━━━━━━━━━\u001b[0m\u001b[37m\u001b[0m \u001b[1m1s\u001b[0m 223ms/step - accuracy: 0.6865 - loss: 0.5745 - val_accuracy: 0.5556 - val_loss: 0.8674\n",
      "Epoch 88/100\n",
      "\u001b[1m2/2\u001b[0m \u001b[32m━━━━━━━━━━━━━━━━━━━━\u001b[0m\u001b[37m\u001b[0m \u001b[1m0s\u001b[0m 109ms/step - accuracy: 0.8333 - loss: 0.3599 - val_accuracy: 0.5556 - val_loss: 0.8678\n",
      "Epoch 89/100\n",
      "\u001b[1m2/2\u001b[0m \u001b[32m━━━━━━━━━━━━━━━━━━━━\u001b[0m\u001b[37m\u001b[0m \u001b[1m1s\u001b[0m 226ms/step - accuracy: 0.8333 - loss: 0.4157 - val_accuracy: 0.5000 - val_loss: 0.8678\n",
      "Epoch 90/100\n",
      "\u001b[1m2/2\u001b[0m \u001b[32m━━━━━━━━━━━━━━━━━━━━\u001b[0m\u001b[37m\u001b[0m \u001b[1m0s\u001b[0m 113ms/step - accuracy: 0.8000 - loss: 0.4656 - val_accuracy: 0.4444 - val_loss: 0.8688\n",
      "Epoch 91/100\n",
      "\u001b[1m2/2\u001b[0m \u001b[32m━━━━━━━━━━━━━━━━━━━━\u001b[0m\u001b[37m\u001b[0m \u001b[1m1s\u001b[0m 224ms/step - accuracy: 0.8778 - loss: 0.4121 - val_accuracy: 0.3889 - val_loss: 0.8710\n",
      "Epoch 92/100\n",
      "\u001b[1m2/2\u001b[0m \u001b[32m━━━━━━━━━━━━━━━━━━━━\u001b[0m\u001b[37m\u001b[0m \u001b[1m0s\u001b[0m 108ms/step - accuracy: 0.7500 - loss: 0.5085 - val_accuracy: 0.3333 - val_loss: 0.8728\n",
      "Epoch 93/100\n",
      "\u001b[1m2/2\u001b[0m \u001b[32m━━━━━━━━━━━━━━━━━━━━\u001b[0m\u001b[37m\u001b[0m \u001b[1m1s\u001b[0m 223ms/step - accuracy: 0.8175 - loss: 0.4045 - val_accuracy: 0.3333 - val_loss: 0.8729\n",
      "Epoch 94/100\n",
      "\u001b[1m2/2\u001b[0m \u001b[32m━━━━━━━━━━━━━━━━━━━━\u001b[0m\u001b[37m\u001b[0m \u001b[1m0s\u001b[0m 109ms/step - accuracy: 0.8000 - loss: 0.4335 - val_accuracy: 0.3333 - val_loss: 0.8737\n",
      "Epoch 95/100\n",
      "\u001b[1m2/2\u001b[0m \u001b[32m━━━━━━━━━━━━━━━━━━━━\u001b[0m\u001b[37m\u001b[0m \u001b[1m1s\u001b[0m 229ms/step - accuracy: 0.8651 - loss: 0.3780 - val_accuracy: 0.3333 - val_loss: 0.8763\n",
      "Epoch 96/100\n",
      "\u001b[1m2/2\u001b[0m \u001b[32m━━━━━━━━━━━━━━━━━━━━\u001b[0m\u001b[37m\u001b[0m \u001b[1m0s\u001b[0m 121ms/step - accuracy: 0.7000 - loss: 0.4765 - val_accuracy: 0.3889 - val_loss: 0.8775\n",
      "Epoch 97/100\n",
      "\u001b[1m2/2\u001b[0m \u001b[32m━━━━━━━━━━━━━━━━━━━━\u001b[0m\u001b[37m\u001b[0m \u001b[1m1s\u001b[0m 230ms/step - accuracy: 0.8222 - loss: 0.4562 - val_accuracy: 0.4444 - val_loss: 0.8821\n",
      "Epoch 98/100\n",
      "\u001b[1m2/2\u001b[0m \u001b[32m━━━━━━━━━━━━━━━━━━━━\u001b[0m\u001b[37m\u001b[0m \u001b[1m0s\u001b[0m 108ms/step - accuracy: 0.8333 - loss: 0.3678 - val_accuracy: 0.3889 - val_loss: 0.8844\n",
      "Epoch 99/100\n",
      "\u001b[1m2/2\u001b[0m \u001b[32m━━━━━━━━━━━━━━━━━━━━\u001b[0m\u001b[37m\u001b[0m \u001b[1m1s\u001b[0m 163ms/step - accuracy: 0.8444 - loss: 0.3454 - val_accuracy: 0.3889 - val_loss: 0.8864\n",
      "Epoch 100/100\n",
      "\u001b[1m2/2\u001b[0m \u001b[32m━━━━━━━━━━━━━━━━━━━━\u001b[0m\u001b[37m\u001b[0m \u001b[1m0s\u001b[0m 113ms/step - accuracy: 0.8000 - loss: 0.4807 - val_accuracy: 0.4444 - val_loss: 0.8858\n",
      "process time: 89.42928600399999\n"
     ]
    }
   ],
   "source": [
    "# compile our model\n",
    "print(\"[INFO] compiling model...\")\n",
    "#opt = Adam(learning_rate=INIT_LR, decay=INIT_LR / EPOCHS)\n",
    "model.compile(loss=\"categorical_crossentropy\", optimizer=opt,\n",
    "\tmetrics=[\"accuracy\"])\n",
    "#model.compile(loss=\"hinge\", optimizer=opt,\n",
    "\t#metrics=[\"accuracy\"])\n",
    "# train the head of the network\n",
    "print(\"[INFO] training head...\")\n",
    "wandb_callback = wandb.keras.WandbMetricsLogger(log_freq=\"epoch\")\n",
    "import time\n",
    "t1=time.process_time()\n",
    "H = model.fit(\n",
    "\ttrainAug.flow(trainX, trainY, batch_size=BS),\n",
    "\tsteps_per_epoch=len(trainX) // BS,\n",
    "\tvalidation_data=(testX, testY),\n",
    "\tvalidation_steps=len(testX) // BS,\n",
    "\tepochs=EPOCHS,\n",
    "     callbacks=[wandb_callback]\n",
    ")\n",
    "t2 =time.process_time()\n",
    "print(\"process time:\", t2-t1)  \n",
    "#model.save(\"vgg16.h5\")"
   ]
  },
  {
   "cell_type": "code",
   "execution_count": 11,
   "id": "83f3014b",
   "metadata": {
    "execution": {
     "iopub.execute_input": "2025-03-16T13:31:30.861609Z",
     "iopub.status.busy": "2025-03-16T13:31:30.861348Z",
     "iopub.status.idle": "2025-03-16T13:31:30.865881Z",
     "shell.execute_reply": "2025-03-16T13:31:30.865058Z"
    },
    "id": "tIPRvS1ohE9E",
    "outputId": "c52ae5e3-016b-492a-b523-1513fdb00fa5",
    "papermill": {
     "duration": 0.026278,
     "end_time": "2025-03-16T13:31:30.867066",
     "exception": false,
     "start_time": "2025-03-16T13:31:30.840788",
     "status": "completed"
    },
    "tags": []
   },
   "outputs": [
    {
     "name": "stdout",
     "output_type": "stream",
     "text": [
      "100\n"
     ]
    }
   ],
   "source": [
    "print(len(H.history['loss']))"
   ]
  },
  {
   "cell_type": "code",
   "execution_count": 12,
   "id": "8d4d83b1",
   "metadata": {
    "execution": {
     "iopub.execute_input": "2025-03-16T13:31:30.907885Z",
     "iopub.status.busy": "2025-03-16T13:31:30.907641Z",
     "iopub.status.idle": "2025-03-16T13:31:31.047370Z",
     "shell.execute_reply": "2025-03-16T13:31:31.046354Z"
    },
    "id": "loSuh1pj80Bh",
    "papermill": {
     "duration": 0.161854,
     "end_time": "2025-03-16T13:31:31.049043",
     "exception": false,
     "start_time": "2025-03-16T13:31:30.887189",
     "status": "completed"
    },
    "tags": []
   },
   "outputs": [],
   "source": [
    "model.save_weights(\"my_model_weights.weights.h5\")"
   ]
  },
  {
   "cell_type": "code",
   "execution_count": 13,
   "id": "b3ed76e9",
   "metadata": {
    "execution": {
     "iopub.execute_input": "2025-03-16T13:31:31.092263Z",
     "iopub.status.busy": "2025-03-16T13:31:31.091975Z",
     "iopub.status.idle": "2025-03-16T13:31:47.939868Z",
     "shell.execute_reply": "2025-03-16T13:31:47.938966Z"
    },
    "id": "5531Zaap82a4",
    "outputId": "8c3373a8-52e3-4b3b-e0ee-5aa343de8d6f",
    "papermill": {
     "duration": 16.870783,
     "end_time": "2025-03-16T13:31:47.941430",
     "exception": false,
     "start_time": "2025-03-16T13:31:31.070647",
     "status": "completed"
    },
    "tags": []
   },
   "outputs": [
    {
     "name": "stdout",
     "output_type": "stream",
     "text": [
      "\u001b[1m3/3\u001b[0m \u001b[32m━━━━━━━━━━━━━━━━━━━━\u001b[0m\u001b[37m\u001b[0m \u001b[1m16s\u001b[0m 2s/step\n",
      "                      precision    recall  f1-score   support\n",
      "\n",
      "Chickenpox_grayscale       0.88      0.82      0.85        34\n",
      "      Monkeypox_gray       0.85      0.89      0.87        38\n",
      "\n",
      "            accuracy                           0.86        72\n",
      "           macro avg       0.86      0.86      0.86        72\n",
      "        weighted avg       0.86      0.86      0.86        72\n",
      "\n"
     ]
    }
   ],
   "source": [
    "# Log model weights to W&B as an artifact\n",
    "artifact = wandb.Artifact(\"monkeypox-model\", type=\"model\")\n",
    "artifact.add_file(\"my_model_weights.weights.h5\")\n",
    "wandb.log_artifact(artifact)\n",
    "\n",
    "#classification report on training\n",
    "predIdxs = model.predict(trainX)\n",
    "# for each image in the testing set we need to find the index of the\n",
    "# label with corresponding largest predicted probability\n",
    "trainpredict = np.argmax(predIdxs, axis=1)\n",
    "print(classification_report(trainY.argmax(axis=1), trainpredict,\n",
    "\ttarget_names=lb.classes_))"
   ]
  },
  {
   "cell_type": "code",
   "execution_count": 14,
   "id": "bc94301e",
   "metadata": {
    "execution": {
     "iopub.execute_input": "2025-03-16T13:31:47.986629Z",
     "iopub.status.busy": "2025-03-16T13:31:47.986335Z",
     "iopub.status.idle": "2025-03-16T13:31:47.996241Z",
     "shell.execute_reply": "2025-03-16T13:31:47.995274Z"
    },
    "id": "ZkPBjnsp9AXv",
    "outputId": "62b95ce9-542f-4499-aae0-761c07b2ea73",
    "papermill": {
     "duration": 0.033802,
     "end_time": "2025-03-16T13:31:47.997570",
     "exception": false,
     "start_time": "2025-03-16T13:31:47.963768",
     "status": "completed"
    },
    "tags": []
   },
   "outputs": [
    {
     "name": "stdout",
     "output_type": "stream",
     "text": [
      "[[28  6]\n",
      " [ 4 34]]\n",
      "acc: 0.8611\n",
      "sensitivity: 0.8235\n",
      "specificity: 0.8947\n"
     ]
    }
   ],
   "source": [
    "# compute the confusion matrix and and use it to derive the raw\n",
    "# accuracy, sensitivity, and specificity\n",
    "cm = confusion_matrix(trainY.argmax(axis=1), trainpredict)\n",
    "total = sum(sum(cm))\n",
    "print(cm)\n",
    "acc = (cm[0, 0] + cm[1, 1]) / total\n",
    "sensitivity = cm[0, 0] / (cm[0, 0] + cm[0, 1])\n",
    "specificity = cm[1, 1] / (cm[1, 0] + cm[1, 1])\n",
    "# show the confusion matrix, accuracy, sensitivity, and specificity\n",
    "print(\"acc: {:.4f}\".format(acc))\n",
    "print(\"sensitivity: {:.4f}\".format(sensitivity))\n",
    "print(\"specificity: {:.4f}\".format(specificity))\n",
    "\n",
    "# Log metrics to W&B\n",
    "wandb.log({\n",
    "    \"train_accuracy\": acc,\n",
    "    \"train_sensitivity\": sensitivity,\n",
    "    \"train_specificity\": specificity\n",
    "})"
   ]
  },
  {
   "cell_type": "code",
   "execution_count": 15,
   "id": "bb5c6431",
   "metadata": {
    "execution": {
     "iopub.execute_input": "2025-03-16T13:31:48.040532Z",
     "iopub.status.busy": "2025-03-16T13:31:48.040241Z",
     "iopub.status.idle": "2025-03-16T13:31:48.496817Z",
     "shell.execute_reply": "2025-03-16T13:31:48.495982Z"
    },
    "id": "mAhVyaba9C5G",
    "outputId": "854531c2-bf71-423d-c52e-87632d84fee5",
    "papermill": {
     "duration": 0.47923,
     "end_time": "2025-03-16T13:31:48.498185",
     "exception": false,
     "start_time": "2025-03-16T13:31:48.018955",
     "status": "completed"
    },
    "tags": []
   },
   "outputs": [
    {
     "name": "stdout",
     "output_type": "stream",
     "text": [
      "[INFO] evaluating network...\n",
      "\u001b[1m1/1\u001b[0m \u001b[32m━━━━━━━━━━━━━━━━━━━━\u001b[0m\u001b[37m\u001b[0m \u001b[1m0s\u001b[0m 308ms/step\n",
      "                      precision    recall  f1-score   support\n",
      "\n",
      "Chickenpox_grayscale       0.45      0.56      0.50         9\n",
      "      Monkeypox_gray       0.43      0.33      0.38         9\n",
      "\n",
      "            accuracy                           0.44        18\n",
      "           macro avg       0.44      0.44      0.44        18\n",
      "        weighted avg       0.44      0.44      0.44        18\n",
      "\n"
     ]
    }
   ],
   "source": [
    "# make predictions on the testing set\n",
    "print(\"[INFO] evaluating network...\")\n",
    "predIdys = model.predict(testX, batch_size=BS)\n",
    "testpredict = np.argmax(predIdys, axis=1)\n",
    "print(classification_report(testY.argmax(axis=1), testpredict,\n",
    "\ttarget_names=lb.classes_))"
   ]
  },
  {
   "cell_type": "code",
   "execution_count": 16,
   "id": "246c9ff5",
   "metadata": {
    "execution": {
     "iopub.execute_input": "2025-03-16T13:31:48.543025Z",
     "iopub.status.busy": "2025-03-16T13:31:48.542759Z",
     "iopub.status.idle": "2025-03-16T13:31:48.552785Z",
     "shell.execute_reply": "2025-03-16T13:31:48.551707Z"
    },
    "id": "uIw0a_S99JzO",
    "outputId": "91f6e39b-90fe-4a02-9ba8-3dae9d93782e",
    "papermill": {
     "duration": 0.033691,
     "end_time": "2025-03-16T13:31:48.554000",
     "exception": false,
     "start_time": "2025-03-16T13:31:48.520309",
     "status": "completed"
    },
    "tags": []
   },
   "outputs": [
    {
     "name": "stdout",
     "output_type": "stream",
     "text": [
      "[[5 4]\n",
      " [6 3]]\n",
      "acc: 0.4444\n",
      "sensitivity: 0.5556\n",
      "specificity: 0.3333\n"
     ]
    }
   ],
   "source": [
    "# compute the confusion matrix and and use it to derive the raw\n",
    "# accuracy, sensitivity, and specificity\n",
    "cm = confusion_matrix(testY.argmax(axis=1), testpredict)\n",
    "total = sum(sum(cm))\n",
    "print(cm)\n",
    "acc = (cm[0, 0] + cm[1, 1]) / total\n",
    "sensitivity = cm[0, 0] / (cm[0, 0] + cm[0, 1])\n",
    "specificity = cm[1, 1] / (cm[1, 0] + cm[1, 1])\n",
    "# show the confusion matrix, accuracy, sensitivity, and specificity\n",
    "print(\"acc: {:.4f}\".format(acc))\n",
    "print(\"sensitivity: {:.4f}\".format(sensitivity))\n",
    "print(\"specificity: {:.4f}\".format(specificity))\n",
    "\n",
    "# Log test metrics to W&B\n",
    "wandb.log({\n",
    "    \"test_accuracy\": acc,\n",
    "    \"test_sensitivity\": sensitivity,\n",
    "    \"test_specificity\": specificity\n",
    "})"
   ]
  },
  {
   "cell_type": "code",
   "execution_count": 17,
   "id": "f02b1e94",
   "metadata": {
    "execution": {
     "iopub.execute_input": "2025-03-16T13:31:48.595824Z",
     "iopub.status.busy": "2025-03-16T13:31:48.595589Z",
     "iopub.status.idle": "2025-03-16T13:31:49.110800Z",
     "shell.execute_reply": "2025-03-16T13:31:49.110008Z"
    },
    "id": "dETu2tjq9MRD",
    "outputId": "c41fa3ee-66a7-489f-f08f-42ebfb90d729",
    "papermill": {
     "duration": 0.537566,
     "end_time": "2025-03-16T13:31:49.112360",
     "exception": false,
     "start_time": "2025-03-16T13:31:48.574794",
     "status": "completed"
    },
    "tags": []
   },
   "outputs": [
    {
     "data": {
      "image/png": "[encoded data removed]",
      "text/plain": [
       "<Figure size 400x300 with 1 Axes>"
      ]
     },
     "metadata": {},
     "output_type": "display_data"
    },
    {
     "data": {
      "text/plain": [
       "<Figure size 640x480 with 0 Axes>"
      ]
     },
     "metadata": {},
     "output_type": "display_data"
    }
   ],
   "source": [
    "from sklearn import metrics\n",
    "from sklearn.metrics import roc_auc_score, auc\n",
    "from sklearn.metrics import roc_curve\n",
    "fig = plt.figure(figsize = (4, 3))\n",
    "fpr1,tpr1,_=roc_curve(np.argmax(trainY, axis=1),np.argmax(predIdxs, axis=1))\n",
    "fpr2,tpr2,_=roc_curve(np.argmax(testY, axis=1),np.argmax(predIdys, axis=1))\n",
    "area_under_curve1=auc(fpr1,tpr1)\n",
    "random_probs=[0 for i in range(len(trainY.ravel()))]\n",
    "p_fpr1,p_tpr1,threshold=roc_curve(trainY.ravel(),random_probs, pos_label=1)\n",
    "plt.plot(fpr1,tpr1, label='Train AUC = {:.3f}'.format(area_under_curve1))\n",
    "plt.plot(p_fpr1, p_tpr1)\n",
    "area_under_curve2=auc(fpr2,tpr2)\n",
    "random_probs2=[0 for i in range(len(testY.ravel()))]\n",
    "p_fpr2,p_tpr2,threshold=roc_curve(testY.ravel(),random_probs2, pos_label=1)\n",
    "plt.plot(fpr2,tpr2, label='Test AUC = {:.3f}'.format(area_under_curve2))\n",
    "plt.plot(p_fpr2, p_tpr2)\n",
    "\n",
    "    # x label\n",
    "plt.xlabel('FPR',fontsize=14, fontdict=dict(weight='bold'))\n",
    "    # y label\n",
    "plt.ylabel('TPR', fontsize=14, fontdict=dict(weight='bold'))\n",
    "plt.xticks( rotation=0, weight = 'bold', )\n",
    "plt.yticks( rotation=0, weight = 'bold')\n",
    "plt.tick_params(rotation=0,axis='y', labelsize=12)\n",
    "plt.tick_params(rotation=0,axis='x', labelsize=12)\n",
    "plt.legend()\n",
    "plt.legend(prop={'size':12})\n",
    "plt.savefig('ROC',dpi=200, bbox_inches='tight')\n",
    "plt.show();\n",
    "\n",
    "# Log ROC curve to W&B\n",
    "wandb.log({\"ROC_curve\": wandb.Image(plt)})"
   ]
  },
  {
   "cell_type": "code",
   "execution_count": 18,
   "id": "3dc371f2",
   "metadata": {
    "execution": {
     "iopub.execute_input": "2025-03-16T13:31:49.156313Z",
     "iopub.status.busy": "2025-03-16T13:31:49.156000Z",
     "iopub.status.idle": "2025-03-16T13:31:51.050568Z",
     "shell.execute_reply": "2025-03-16T13:31:51.049883Z"
    },
    "id": "Ufb5qFGA9UzW",
    "outputId": "1c5159d7-e778-4068-e22e-12c60e928bcd",
    "papermill": {
     "duration": 1.917643,
     "end_time": "2025-03-16T13:31:51.051754",
     "exception": false,
     "start_time": "2025-03-16T13:31:49.134111",
     "status": "completed"
    },
    "tags": []
   },
   "outputs": [
    {
     "data": {
      "image/png": "[encoded data removed]",
      "text/plain": [
       "<Figure size 640x480 with 1 Axes>"
      ]
     },
     "metadata": {},
     "output_type": "display_data"
    },
    {
     "name": "stderr",
     "output_type": "stream",
     "text": [
      "\u001b[34m\u001b[1mwandb\u001b[0m:                                                                                \n",
      "\u001b[34m\u001b[1mwandb\u001b[0m: \n",
      "\u001b[34m\u001b[1mwandb\u001b[0m: Run history:\n",
      "\u001b[34m\u001b[1mwandb\u001b[0m:      epoch/accuracy ▁▂▁▃▁▁▂▅▄▅▅▃▃▃▆▄▄▅▄▅▃▇▃▃▄▄▄▆▆▅▄▅▄█▅▅▅▃▅▅\n",
      "\u001b[34m\u001b[1mwandb\u001b[0m:         epoch/epoch ▁▁▁▁▂▂▂▂▂▃▃▃▃▃▃▄▄▄▄▄▅▅▅▅▅▅▅▅▅▆▆▆▆▇▇▇████\n",
      "\u001b[34m\u001b[1mwandb\u001b[0m: epoch/learning_rate ▁▁▁▁▁▁▁▁▁▁▁▁▁▁▁▁▁▁▁▁▁▁▁▁▁▁▁▁▁▁▁▁▁▁▁▁▁▁▁▁\n",
      "\u001b[34m\u001b[1mwandb\u001b[0m:          epoch/loss ▇▇█▇▆▇▆▇▆▅▅▄▅▆▅▅▄▄▄▄▄▄▄▃▄▅▃▃▃▃▃▄▃▅▁▄▄▃▃▄\n",
      "\u001b[34m\u001b[1mwandb\u001b[0m:  epoch/val_accuracy ▄▄▄▆▆▆▆▆██▇█▇▇▇▆▆▆▆▅▆▆▇▆▅▄▆▅▅▅▅▆▅▅▅▄▁▁▃▂\n",
      "\u001b[34m\u001b[1mwandb\u001b[0m:      epoch/val_loss ▁▁▂▂▂▂▁▁▁▁▂▂▂▂▂▃▃▃▃▃▄▄▅▅▅▅▅▆▆▆▇▇▇▇▇▇████\n",
      "\u001b[34m\u001b[1mwandb\u001b[0m:       test_accuracy ▁\n",
      "\u001b[34m\u001b[1mwandb\u001b[0m:    test_sensitivity ▁\n",
      "\u001b[34m\u001b[1mwandb\u001b[0m:    test_specificity ▁\n",
      "\u001b[34m\u001b[1mwandb\u001b[0m:      train_accuracy ▁\n",
      "\u001b[34m\u001b[1mwandb\u001b[0m:   train_sensitivity ▁\n",
      "\u001b[34m\u001b[1mwandb\u001b[0m:   train_specificity ▁\n",
      "\u001b[34m\u001b[1mwandb\u001b[0m: \n",
      "\u001b[34m\u001b[1mwandb\u001b[0m: Run summary:\n",
      "\u001b[34m\u001b[1mwandb\u001b[0m:      epoch/accuracy 0.8\n",
      "\u001b[34m\u001b[1mwandb\u001b[0m:         epoch/epoch 99\n",
      "\u001b[34m\u001b[1mwandb\u001b[0m: epoch/learning_rate 0.001\n",
      "\u001b[34m\u001b[1mwandb\u001b[0m:          epoch/loss 0.4807\n",
      "\u001b[34m\u001b[1mwandb\u001b[0m:  epoch/val_accuracy 0.44444\n",
      "\u001b[34m\u001b[1mwandb\u001b[0m:      epoch/val_loss 0.88581\n",
      "\u001b[34m\u001b[1mwandb\u001b[0m:       test_accuracy 0.44444\n",
      "\u001b[34m\u001b[1mwandb\u001b[0m:    test_sensitivity 0.55556\n",
      "\u001b[34m\u001b[1mwandb\u001b[0m:    test_specificity 0.33333\n",
      "\u001b[34m\u001b[1mwandb\u001b[0m:      train_accuracy 0.86111\n",
      "\u001b[34m\u001b[1mwandb\u001b[0m:   train_sensitivity 0.82353\n",
      "\u001b[34m\u001b[1mwandb\u001b[0m:   train_specificity 0.89474\n",
      "\u001b[34m\u001b[1mwandb\u001b[0m: \n",
      "\u001b[34m\u001b[1mwandb\u001b[0m: 🚀 View run \u001b[33mtbelekol_run2\u001b[0m at: \u001b[34m\u001b[4mhttps://wandb.ai/delta-group-50/final-project-ablations/runs/6fby0ap1\u001b[0m\n",
      "\u001b[34m\u001b[1mwandb\u001b[0m: ⭐️ View project at: \u001b[34m\u001b[4mhttps://wandb.ai/delta-group-50/final-project-ablations\u001b[0m\n",
      "\u001b[34m\u001b[1mwandb\u001b[0m: Synced 5 W&B file(s), 0 media file(s), 2 artifact file(s) and 2 other file(s)\n",
      "\u001b[34m\u001b[1mwandb\u001b[0m: Find logs at: \u001b[35m\u001b[1m./wandb/run-20250316_132956-6fby0ap1/logs\u001b[0m\n"
     ]
    },
    {
     "data": {
      "text/plain": [
       "<Figure size 640x480 with 0 Axes>"
      ]
     },
     "metadata": {},
     "output_type": "display_data"
    }
   ],
   "source": [
    "\n",
    "from matplotlib.ticker import FormatStrFormatter\n",
    "\n",
    "import matplotlib\n",
    "import matplotlib.pyplot as plt\n",
    "from matplotlib.ticker import FormatStrFormatter\n",
    "\n",
    "N=len(H.history['loss'])\n",
    "fig, ax = plt.subplots()\n",
    "#plt.rcParams[\"font.family\"] = \"serif\"\n",
    "acc = H.history['accuracy']\n",
    "val_acc = H.history['val_accuracy']\n",
    "#font={'size':10}\n",
    "#matplotlib.rc('font',**font)\n",
    "loss = H.history['loss']\n",
    "val_loss = H.history['val_loss']\n",
    "epochs = range(1, len(acc) + 1)\n",
    "plt.plot(np.arange(0, N), H.history[\"accuracy\"], label=\"TA\")\n",
    "#plt.plot(epochs, loss, label='Training loss')\n",
    "plt.plot(np.arange(0, N), H.history[\"val_accuracy\"], label=\"VA\")\n",
    "plt.plot(epochs, loss, label='TL')\n",
    "#plt.plot(np.arange(0, N), H.history[\"val_accuracy\"], label=\"validation accuracy\")\n",
    "plt.plot(np.arange(0, N), val_loss, label='VS')\n",
    "#plt.plot(epochs, acc, 'bo', label='Training acc')\n",
    "#plt.plot(1, val_acc, 'b', label='Validation acc')\n",
    "#plt.title('Training and validation accuracy')\n",
    "plt.xlabel('Epochs',fontsize=16, fontdict=dict(weight='bold'))\n",
    "    # y label\n",
    "plt.ylabel('Accuracy/Loss', fontsize=16, fontdict=dict(weight='bold'))\n",
    "#plt.ylabel(\"Accuracy\")\n",
    "#plt.xlabel(\"Epochs\")\n",
    "plt.xticks( rotation=0, weight = 'bold' )\n",
    "plt.yticks( rotation=0, weight = 'bold')\n",
    "plt.tick_params(rotation=0,axis='y', labelsize=14)\n",
    "plt.tick_params(rotation=0,axis='x', labelsize=14)\n",
    "#plt.grid('white')\n",
    "#plt.grid(axis='x', color='0.95')\n",
    "plt.legend(loc='best')\n",
    "plt.legend(prop={'size':12})\n",
    "#fig = plt.figure(figsize = (4, 3))\n",
    "plt.savefig('ACC',dpi=200, bbox_inches='tight')\n",
    "plt.show()\n",
    "\n",
    "# Log accuracy/loss plot to W&B\n",
    "wandb.log({\"Accuracy_Loss_Plot\": wandb.Image(plt)})\n",
    "\n",
    "# Finish W&B run\n",
    "wandb.finish()"
   ]
  },
  {
   "cell_type": "code",
   "execution_count": null,
   "id": "07b1971b",
   "metadata": {
    "papermill": {
     "duration": 0.022769,
     "end_time": "2025-03-16T13:31:51.098870",
     "exception": false,
     "start_time": "2025-03-16T13:31:51.076101",
     "status": "completed"
    },
    "tags": []
   },
   "outputs": [],
   "source": []
  }
 ],
 "metadata": {
  "accelerator": "GPU",
  "colab": {
   "name": "Monkeypox_08_15_22.ipynb",
   "provenance": []
  },
  "gpuClass": "standard",
  "kaggle": {
   "accelerator": "nvidiaTeslaT4",
   "dataSources": [
    {
     "datasetId": 6869688,
     "sourceId": 11030426,
     "sourceType": "datasetVersion"
    },
    {
     "datasetId": 6883449,
     "sourceId": 11049425,
     "sourceType": "datasetVersion"
    },
    {
     "datasetId": 6883920,
     "sourceId": 11050015,
     "sourceType": "datasetVersion"
    }
   ],
   "dockerImageVersionId": 30918,
   "isGpuEnabled": true,
   "isInternetEnabled": true,
   "language": "python",
   "sourceType": "notebook"
  },
  "kernelspec": {
   "display_name": "Python 3",
   "language": "python",
   "name": "python3"
  },
  "language_info": {
   "codemirror_mode": {
    "name": "ipython",
    "version": 3
   },
   "file_extension": ".py",
   "mimetype": "text/x-python",
   "name": "python",
   "nbconvert_exporter": "python",
   "pygments_lexer": "ipython3",
   "version": "3.10.12"
  },
  "papermill": {
   "default_parameters": {},
   "duration": 136.804104,
   "end_time": "2025-03-16T13:31:54.197007",
   "environment_variables": {},
   "exception": null,
   "input_path": "__notebook__.ipynb",
   "output_path": "__notebook__.ipynb",
   "parameters": {},
   "start_time": "2025-03-16T13:29:37.392903",
   "version": "2.6.0"
  }
 },
 "nbformat": 4,
 "nbformat_minor": 5
}
